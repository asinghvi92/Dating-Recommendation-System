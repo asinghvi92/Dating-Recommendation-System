{
 "cells": [
  {
   "cell_type": "code",
   "execution_count": 1,
   "metadata": {
    "collapsed": false
   },
   "outputs": [
    {
     "name": "stdout",
     "output_type": "stream",
     "text": [
      "Done reading CSV file\n"
     ]
    }
   ],
   "source": [
    "# this notebook will read the csv file and convert it to json format\n",
    "# it also divides the dataset into training and evaluation sets.\n",
    "\n",
    "import csv\n",
    "import json\n",
    "import os\n",
    "from collections import defaultdict\n",
    "import ast\n",
    "\n",
    "csvfile = open('users.csv', 'r')\n",
    "jsonfile = open('temp_users.json', 'w')\n",
    "\n",
    "fieldnames = ('age','bodyType','diet','drinks', 'drugs', 'education', 'essay0', 'essay1', 'essay2', 'essay3', 'essay4', 'essay5', 'essay6', 'essay7', 'essay8', 'essay9', 'ethnicity', 'height', 'income', 'job', 'lastOnline', 'location', 'offspring', 'orientation', 'pets', 'religion', 'sex', 'sign', 'smokes', 'speaks', 'status')\n",
    "reader = csv.DictReader( csvfile, fieldnames)\n",
    "for row in reader:\n",
    "    json.dump(row, jsonfile)\n",
    "    jsonfile.write('\\n')\n",
    "    \n",
    "jsonfile.close()\n",
    "print 'Done reading CSV file'"
   ]
  },
  {
   "cell_type": "code",
   "execution_count": 2,
   "metadata": {
    "collapsed": false
   },
   "outputs": [
    {
     "name": "stdout",
     "output_type": "stream",
     "text": [
      "Removed dataset/temp_users.json\n",
      "Done Parsing. Data written to dataset/parsed_users.dict\n"
     ]
    }
   ],
   "source": [
    "outfile_training = open('users_training.json', 'w')\n",
    "outfile_evaluation = open('users_evaluation.json', 'w')\n",
    "\n",
    "users_json = []\n",
    "users_dict_training = defaultdict(dict)\n",
    "users_dict_evaluation = defaultdict(dict)\n",
    "\n",
    "essays = ['essay0', 'essay1', 'essay2', 'essay3', 'essay4', 'essay5', 'essay6', 'essay7', 'essay8', 'essay9']\n",
    "user_id = -1\n",
    "\n",
    "\n",
    "#read json file\n",
    "for line in open('dataset/temp_users.json', 'r'):\n",
    "    \n",
    "    u = ast.literal_eval(line)\n",
    "    \n",
    "    #remove fields we decide to ignore\n",
    "    if 'location' in u: del u['location']\n",
    "    if 'income' in u: del u['income']\n",
    "    if 'offspring' in u: del u['offspring']\n",
    "    if 'drugs' in u: del u['drugs']\n",
    "    if 'job' in u: del u['job']\n",
    "    if 'lastOnline' in u: del u['lastOnline']\n",
    "    #print u\n",
    "    \n",
    "    #clean up essay questions\n",
    "    for e in essays:\n",
    "        u[e] = u[e].replace('<br />', '')\n",
    "        u[e] = u[e].replace('\\n', ' ')\n",
    "    \n",
    "    #add user to dictionary\n",
    "    if (user_id < 15000):\n",
    "        users_dict_training[user_id]= u\n",
    "    else:\n",
    "        users_dict_evaluation[user_id]= u\n",
    "    \n",
    "    user_id += 1;\n",
    "\n",
    "    \n",
    "if '-1' in users_dict_training: del users_dict_training['-1']\n",
    "if '27747' in users_dict_evaluation: del users_dict_evaluation['27747']\n",
    "#print users_dict\n",
    "\n",
    "json.dump(users_dict_training, outfile_training)\n",
    "json.dump(users_dict_evaluation, outfile_evaluation)\n",
    "\n",
    "outfile_training.close()\n",
    "outfile_evaluation.close()\n",
    "\n",
    "os.remove('temp_users.json')\n",
    "print 'Removed dataset/temp_users.json'\n",
    "print 'Done Parsing. Data written to dataset/parsed_users.dict'\n"
   ]
  },
  {
   "cell_type": "code",
   "execution_count": 9,
   "metadata": {
    "collapsed": false
   },
   "outputs": [],
   "source": [
    "# to read the file to \n",
    "import ast\n",
    "infile = open('users_evaluation.dict', 'r')\n",
    "\n",
    "dictionary = ast.literal_eval(infile.readline())\n",
    "i = 27747\n",
    "#print dictionary[str(i)]\n",
    "infile.close()"
   ]
  }
 ],
 "metadata": {
  "anaconda-cloud": {},
  "kernelspec": {
   "display_name": "Python [default]",
   "language": "python",
   "name": "python2"
  },
  "language_info": {
   "codemirror_mode": {
    "name": "ipython",
    "version": 2
   },
   "file_extension": ".py",
   "mimetype": "text/x-python",
   "name": "python",
   "nbconvert_exporter": "python",
   "pygments_lexer": "ipython2",
   "version": "2.7.13"
  }
 },
 "nbformat": 4,
 "nbformat_minor": 2
}
